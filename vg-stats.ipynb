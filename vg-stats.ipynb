{
 "metadata": {
  "language_info": {
   "codemirror_mode": {
    "name": "ipython",
    "version": 3
   },
   "file_extension": ".py",
   "mimetype": "text/x-python",
   "name": "python",
   "nbconvert_exporter": "python",
   "pygments_lexer": "ipython3",
   "version": "3.9.0-final"
  },
  "orig_nbformat": 2,
  "kernelspec": {
   "name": "python3",
   "display_name": "Python 3",
   "language": "python"
  }
 },
 "nbformat": 4,
 "nbformat_minor": 2,
 "cells": [
  {
   "cell_type": "code",
   "execution_count": 174,
   "metadata": {},
   "outputs": [],
   "source": [
    "import pandas as pd\n",
    "\n"
   ]
  },
  {
   "source": [
    "<h1>vg-stats</h1>"
   ],
   "cell_type": "markdown",
   "metadata": {}
  },
  {
   "cell_type": "code",
   "execution_count": 175,
   "metadata": {},
   "outputs": [
    {
     "output_type": "execute_result",
     "data": {
      "text/plain": [
       "   Rank                      Name Platform    Year         Genre Publisher  \\\n",
       "0     1                Wii Sports      Wii  2006.0        Sports  Nintendo   \n",
       "1     2         Super Mario Bros.      NES  1985.0      Platform  Nintendo   \n",
       "2     3            Mario Kart Wii      Wii  2008.0        Racing  Nintendo   \n",
       "3     4         Wii Sports Resort      Wii  2009.0        Sports  Nintendo   \n",
       "4     5  Pokemon Red/Pokemon Blue       GB  1996.0  Role-Playing  Nintendo   \n",
       "\n",
       "   NA_Sales  EU_Sales  JP_Sales  Other_Sales  Global_Sales  \n",
       "0     41.49     29.02      3.77         8.46         82.74  \n",
       "1     29.08      3.58      6.81         0.77         40.24  \n",
       "2     15.85     12.88      3.79         3.31         35.82  \n",
       "3     15.75     11.01      3.28         2.96         33.00  \n",
       "4     11.27      8.89     10.22         1.00         31.37  "
      ],
      "text/html": "<div>\n<style scoped>\n    .dataframe tbody tr th:only-of-type {\n        vertical-align: middle;\n    }\n\n    .dataframe tbody tr th {\n        vertical-align: top;\n    }\n\n    .dataframe thead th {\n        text-align: right;\n    }\n</style>\n<table border=\"1\" class=\"dataframe\">\n  <thead>\n    <tr style=\"text-align: right;\">\n      <th></th>\n      <th>Rank</th>\n      <th>Name</th>\n      <th>Platform</th>\n      <th>Year</th>\n      <th>Genre</th>\n      <th>Publisher</th>\n      <th>NA_Sales</th>\n      <th>EU_Sales</th>\n      <th>JP_Sales</th>\n      <th>Other_Sales</th>\n      <th>Global_Sales</th>\n    </tr>\n  </thead>\n  <tbody>\n    <tr>\n      <th>0</th>\n      <td>1</td>\n      <td>Wii Sports</td>\n      <td>Wii</td>\n      <td>2006.0</td>\n      <td>Sports</td>\n      <td>Nintendo</td>\n      <td>41.49</td>\n      <td>29.02</td>\n      <td>3.77</td>\n      <td>8.46</td>\n      <td>82.74</td>\n    </tr>\n    <tr>\n      <th>1</th>\n      <td>2</td>\n      <td>Super Mario Bros.</td>\n      <td>NES</td>\n      <td>1985.0</td>\n      <td>Platform</td>\n      <td>Nintendo</td>\n      <td>29.08</td>\n      <td>3.58</td>\n      <td>6.81</td>\n      <td>0.77</td>\n      <td>40.24</td>\n    </tr>\n    <tr>\n      <th>2</th>\n      <td>3</td>\n      <td>Mario Kart Wii</td>\n      <td>Wii</td>\n      <td>2008.0</td>\n      <td>Racing</td>\n      <td>Nintendo</td>\n      <td>15.85</td>\n      <td>12.88</td>\n      <td>3.79</td>\n      <td>3.31</td>\n      <td>35.82</td>\n    </tr>\n    <tr>\n      <th>3</th>\n      <td>4</td>\n      <td>Wii Sports Resort</td>\n      <td>Wii</td>\n      <td>2009.0</td>\n      <td>Sports</td>\n      <td>Nintendo</td>\n      <td>15.75</td>\n      <td>11.01</td>\n      <td>3.28</td>\n      <td>2.96</td>\n      <td>33.00</td>\n    </tr>\n    <tr>\n      <th>4</th>\n      <td>5</td>\n      <td>Pokemon Red/Pokemon Blue</td>\n      <td>GB</td>\n      <td>1996.0</td>\n      <td>Role-Playing</td>\n      <td>Nintendo</td>\n      <td>11.27</td>\n      <td>8.89</td>\n      <td>10.22</td>\n      <td>1.00</td>\n      <td>31.37</td>\n    </tr>\n  </tbody>\n</table>\n</div>"
     },
     "metadata": {},
     "execution_count": 175
    }
   ],
   "source": [
    "df = pd.read_csv('vgsales-1.csv')\n",
    "df.head()"
   ]
  },
  {
   "source": [
    "<h2> 1- Which company is the most common video game publisher? </h2>"
   ],
   "cell_type": "markdown",
   "metadata": {}
  },
  {
   "cell_type": "code",
   "execution_count": 176,
   "metadata": {},
   "outputs": [
    {
     "output_type": "execute_result",
     "data": {
      "text/plain": [
       "         Publisher\n",
       "0  Electronic Arts"
      ],
      "text/html": "<div>\n<style scoped>\n    .dataframe tbody tr th:only-of-type {\n        vertical-align: middle;\n    }\n\n    .dataframe tbody tr th {\n        vertical-align: top;\n    }\n\n    .dataframe thead th {\n        text-align: right;\n    }\n</style>\n<table border=\"1\" class=\"dataframe\">\n  <thead>\n    <tr style=\"text-align: right;\">\n      <th></th>\n      <th>Publisher</th>\n    </tr>\n  </thead>\n  <tbody>\n    <tr>\n      <th>0</th>\n      <td>Electronic Arts</td>\n    </tr>\n  </tbody>\n</table>\n</div>"
     },
     "metadata": {},
     "execution_count": 176
    }
   ],
   "source": [
    "global_sales = df[['Publisher']].mode()\n",
    "global_sales\n",
    "# df.keys() // the feathers\n",
    "# print(df.values) // the rows"
   ]
  },
  {
   "source": [
    "<h2>2- What’s the most common platform?</h2>"
   ],
   "cell_type": "markdown",
   "metadata": {}
  },
  {
   "cell_type": "code",
   "execution_count": 177,
   "metadata": {},
   "outputs": [
    {
     "output_type": "execute_result",
     "data": {
      "text/plain": [
       "0    DS\n",
       "dtype: object"
      ]
     },
     "metadata": {},
     "execution_count": 177
    }
   ],
   "source": [
    "most_platfprm = df['Platform'].mode()\n",
    "most_platfprm"
   ]
  },
  {
   "source": [
    "<h2>3- What about the most common genre?</h2>\n"
   ],
   "cell_type": "markdown",
   "metadata": {}
  },
  {
   "cell_type": "code",
   "execution_count": 178,
   "metadata": {},
   "outputs": [
    {
     "output_type": "execute_result",
     "data": {
      "text/plain": [
       "0    Action\n",
       "dtype: object"
      ]
     },
     "metadata": {},
     "execution_count": 178
    }
   ],
   "source": [
    "most_genre = df['Genre'].mode()\n",
    "most_genre"
   ]
  },
  {
   "source": [
    "<h2>4- What are the top 20 highest grossing games?</h2>"
   ],
   "cell_type": "markdown",
   "metadata": {}
  },
  {
   "cell_type": "code",
   "execution_count": 179,
   "metadata": {},
   "outputs": [
    {
     "output_type": "execute_result",
     "data": {
      "text/plain": [
       "                                            Name\n",
       "0                                     Wii Sports\n",
       "1                              Super Mario Bros.\n",
       "2                                 Mario Kart Wii\n",
       "3                              Wii Sports Resort\n",
       "4                       Pokemon Red/Pokemon Blue\n",
       "5                                         Tetris\n",
       "6                          New Super Mario Bros.\n",
       "7                                       Wii Play\n",
       "8                      New Super Mario Bros. Wii\n",
       "9                                      Duck Hunt\n",
       "10                                    Nintendogs\n",
       "11                                 Mario Kart DS\n",
       "12                   Pokemon Gold/Pokemon Silver\n",
       "13                                       Wii Fit\n",
       "14                                  Wii Fit Plus\n",
       "15                            Kinect Adventures!\n",
       "16                            Grand Theft Auto V\n",
       "17                 Grand Theft Auto: San Andreas\n",
       "18                             Super Mario World\n",
       "19  Brain Age: Train Your Brain in Minutes a Day"
      ],
      "text/html": "<div>\n<style scoped>\n    .dataframe tbody tr th:only-of-type {\n        vertical-align: middle;\n    }\n\n    .dataframe tbody tr th {\n        vertical-align: top;\n    }\n\n    .dataframe thead th {\n        text-align: right;\n    }\n</style>\n<table border=\"1\" class=\"dataframe\">\n  <thead>\n    <tr style=\"text-align: right;\">\n      <th></th>\n      <th>Name</th>\n    </tr>\n  </thead>\n  <tbody>\n    <tr>\n      <th>0</th>\n      <td>Wii Sports</td>\n    </tr>\n    <tr>\n      <th>1</th>\n      <td>Super Mario Bros.</td>\n    </tr>\n    <tr>\n      <th>2</th>\n      <td>Mario Kart Wii</td>\n    </tr>\n    <tr>\n      <th>3</th>\n      <td>Wii Sports Resort</td>\n    </tr>\n    <tr>\n      <th>4</th>\n      <td>Pokemon Red/Pokemon Blue</td>\n    </tr>\n    <tr>\n      <th>5</th>\n      <td>Tetris</td>\n    </tr>\n    <tr>\n      <th>6</th>\n      <td>New Super Mario Bros.</td>\n    </tr>\n    <tr>\n      <th>7</th>\n      <td>Wii Play</td>\n    </tr>\n    <tr>\n      <th>8</th>\n      <td>New Super Mario Bros. Wii</td>\n    </tr>\n    <tr>\n      <th>9</th>\n      <td>Duck Hunt</td>\n    </tr>\n    <tr>\n      <th>10</th>\n      <td>Nintendogs</td>\n    </tr>\n    <tr>\n      <th>11</th>\n      <td>Mario Kart DS</td>\n    </tr>\n    <tr>\n      <th>12</th>\n      <td>Pokemon Gold/Pokemon Silver</td>\n    </tr>\n    <tr>\n      <th>13</th>\n      <td>Wii Fit</td>\n    </tr>\n    <tr>\n      <th>14</th>\n      <td>Wii Fit Plus</td>\n    </tr>\n    <tr>\n      <th>15</th>\n      <td>Kinect Adventures!</td>\n    </tr>\n    <tr>\n      <th>16</th>\n      <td>Grand Theft Auto V</td>\n    </tr>\n    <tr>\n      <th>17</th>\n      <td>Grand Theft Auto: San Andreas</td>\n    </tr>\n    <tr>\n      <th>18</th>\n      <td>Super Mario World</td>\n    </tr>\n    <tr>\n      <th>19</th>\n      <td>Brain Age: Train Your Brain in Minutes a Day</td>\n    </tr>\n  </tbody>\n</table>\n</div>"
     },
     "metadata": {},
     "execution_count": 179
    }
   ],
   "source": [
    "top_20_highest_grossing_games = df.sort_values('Global_Sales',ascending=False).head(20)[['Name']]\n",
    "top_20_highest_grossing_games"
   ]
  },
  {
   "source": [
    "<h2>5- median North American video game sales</h2>"
   ],
   "cell_type": "markdown",
   "metadata": {}
  },
  {
   "cell_type": "code",
   "execution_count": 180,
   "metadata": {},
   "outputs": [
    {
     "output_type": "execute_result",
     "data": {
      "text/plain": [
       "0.08"
      ]
     },
     "metadata": {},
     "execution_count": 180
    }
   ],
   "source": [
    "# data = df['NA_Sales']\n",
    "na_median = df['NA_Sales'].median()\n",
    "na_median"
   ]
  },
  {
   "cell_type": "code",
   "execution_count": 181,
   "metadata": {},
   "outputs": [
    {
     "output_type": "execute_result",
     "data": {
      "text/plain": [
       "        Rank                                               Name Platform  \\\n",
       "446      447                                  Dragon Warrior IV      NES   \n",
       "497      498        World Soccer Winning Eleven 7 International      PS2   \n",
       "1617    1619                             Farming Simulator 2015       PC   \n",
       "1926    1928                          Pro Evolution Soccer 2008     X360   \n",
       "2067    2069  Winning Eleven: Pro Evolution Soccer 2007 (All...     X360   \n",
       "...      ...                                                ...      ...   \n",
       "11403  11405            My English Coach: Para Hispanoparlantes       DS   \n",
       "11431  11433   Little League World Series Baseball: Double Play       DS   \n",
       "11432  11434                               DanceDanceRevolution     X360   \n",
       "11455  11457                                         The Hidden      3DS   \n",
       "11492  11494                       Ultimate Shooting Collection      Wii   \n",
       "\n",
       "         Year         Genre                     Publisher  NA_Sales  EU_Sales  \\\n",
       "446    1990.0  Role-Playing              Enix Corporation      0.08      0.00   \n",
       "497    2003.0        Sports  Konami Digital Entertainment      0.08      1.24   \n",
       "1617   2014.0    Simulation        Focus Home Interactive      0.08      1.02   \n",
       "1926   2007.0        Sports  Konami Digital Entertainment      0.08      0.90   \n",
       "2067   2006.0        Sports  Konami Digital Entertainment      0.08      0.90   \n",
       "...       ...           ...                           ...       ...       ...   \n",
       "11403  2009.0          Misc                       Ubisoft      0.08      0.00   \n",
       "11431  2010.0        Sports                    Activision      0.08      0.00   \n",
       "11432  2011.0    Simulation  Konami Digital Entertainment      0.08      0.00   \n",
       "11455     NaN     Adventure                       Unknown      0.08      0.00   \n",
       "11492  2008.0       Shooter                     Milestone      0.08      0.00   \n",
       "\n",
       "       JP_Sales  Other_Sales  Global_Sales  \n",
       "446        3.03         0.01          3.12  \n",
       "497        1.13         0.45          2.90  \n",
       "1617       0.00         0.13          1.23  \n",
       "1926       0.04         0.05          1.07  \n",
       "2067       0.02         0.00          1.00  \n",
       "...         ...          ...           ...  \n",
       "11403      0.00         0.01          0.08  \n",
       "11431      0.00         0.01          0.08  \n",
       "11432      0.00         0.01          0.08  \n",
       "11455      0.00         0.00          0.08  \n",
       "11492      0.00         0.00          0.08  \n",
       "\n",
       "[459 rows x 11 columns]"
      ],
      "text/html": "<div>\n<style scoped>\n    .dataframe tbody tr th:only-of-type {\n        vertical-align: middle;\n    }\n\n    .dataframe tbody tr th {\n        vertical-align: top;\n    }\n\n    .dataframe thead th {\n        text-align: right;\n    }\n</style>\n<table border=\"1\" class=\"dataframe\">\n  <thead>\n    <tr style=\"text-align: right;\">\n      <th></th>\n      <th>Rank</th>\n      <th>Name</th>\n      <th>Platform</th>\n      <th>Year</th>\n      <th>Genre</th>\n      <th>Publisher</th>\n      <th>NA_Sales</th>\n      <th>EU_Sales</th>\n      <th>JP_Sales</th>\n      <th>Other_Sales</th>\n      <th>Global_Sales</th>\n    </tr>\n  </thead>\n  <tbody>\n    <tr>\n      <th>446</th>\n      <td>447</td>\n      <td>Dragon Warrior IV</td>\n      <td>NES</td>\n      <td>1990.0</td>\n      <td>Role-Playing</td>\n      <td>Enix Corporation</td>\n      <td>0.08</td>\n      <td>0.00</td>\n      <td>3.03</td>\n      <td>0.01</td>\n      <td>3.12</td>\n    </tr>\n    <tr>\n      <th>497</th>\n      <td>498</td>\n      <td>World Soccer Winning Eleven 7 International</td>\n      <td>PS2</td>\n      <td>2003.0</td>\n      <td>Sports</td>\n      <td>Konami Digital Entertainment</td>\n      <td>0.08</td>\n      <td>1.24</td>\n      <td>1.13</td>\n      <td>0.45</td>\n      <td>2.90</td>\n    </tr>\n    <tr>\n      <th>1617</th>\n      <td>1619</td>\n      <td>Farming Simulator 2015</td>\n      <td>PC</td>\n      <td>2014.0</td>\n      <td>Simulation</td>\n      <td>Focus Home Interactive</td>\n      <td>0.08</td>\n      <td>1.02</td>\n      <td>0.00</td>\n      <td>0.13</td>\n      <td>1.23</td>\n    </tr>\n    <tr>\n      <th>1926</th>\n      <td>1928</td>\n      <td>Pro Evolution Soccer 2008</td>\n      <td>X360</td>\n      <td>2007.0</td>\n      <td>Sports</td>\n      <td>Konami Digital Entertainment</td>\n      <td>0.08</td>\n      <td>0.90</td>\n      <td>0.04</td>\n      <td>0.05</td>\n      <td>1.07</td>\n    </tr>\n    <tr>\n      <th>2067</th>\n      <td>2069</td>\n      <td>Winning Eleven: Pro Evolution Soccer 2007 (All...</td>\n      <td>X360</td>\n      <td>2006.0</td>\n      <td>Sports</td>\n      <td>Konami Digital Entertainment</td>\n      <td>0.08</td>\n      <td>0.90</td>\n      <td>0.02</td>\n      <td>0.00</td>\n      <td>1.00</td>\n    </tr>\n    <tr>\n      <th>...</th>\n      <td>...</td>\n      <td>...</td>\n      <td>...</td>\n      <td>...</td>\n      <td>...</td>\n      <td>...</td>\n      <td>...</td>\n      <td>...</td>\n      <td>...</td>\n      <td>...</td>\n      <td>...</td>\n    </tr>\n    <tr>\n      <th>11403</th>\n      <td>11405</td>\n      <td>My English Coach: Para Hispanoparlantes</td>\n      <td>DS</td>\n      <td>2009.0</td>\n      <td>Misc</td>\n      <td>Ubisoft</td>\n      <td>0.08</td>\n      <td>0.00</td>\n      <td>0.00</td>\n      <td>0.01</td>\n      <td>0.08</td>\n    </tr>\n    <tr>\n      <th>11431</th>\n      <td>11433</td>\n      <td>Little League World Series Baseball: Double Play</td>\n      <td>DS</td>\n      <td>2010.0</td>\n      <td>Sports</td>\n      <td>Activision</td>\n      <td>0.08</td>\n      <td>0.00</td>\n      <td>0.00</td>\n      <td>0.01</td>\n      <td>0.08</td>\n    </tr>\n    <tr>\n      <th>11432</th>\n      <td>11434</td>\n      <td>DanceDanceRevolution</td>\n      <td>X360</td>\n      <td>2011.0</td>\n      <td>Simulation</td>\n      <td>Konami Digital Entertainment</td>\n      <td>0.08</td>\n      <td>0.00</td>\n      <td>0.00</td>\n      <td>0.01</td>\n      <td>0.08</td>\n    </tr>\n    <tr>\n      <th>11455</th>\n      <td>11457</td>\n      <td>The Hidden</td>\n      <td>3DS</td>\n      <td>NaN</td>\n      <td>Adventure</td>\n      <td>Unknown</td>\n      <td>0.08</td>\n      <td>0.00</td>\n      <td>0.00</td>\n      <td>0.00</td>\n      <td>0.08</td>\n    </tr>\n    <tr>\n      <th>11492</th>\n      <td>11494</td>\n      <td>Ultimate Shooting Collection</td>\n      <td>Wii</td>\n      <td>2008.0</td>\n      <td>Shooter</td>\n      <td>Milestone</td>\n      <td>0.08</td>\n      <td>0.00</td>\n      <td>0.00</td>\n      <td>0.00</td>\n      <td>0.08</td>\n    </tr>\n  </tbody>\n</table>\n<p>459 rows × 11 columns</p>\n</div>"
     },
     "metadata": {},
     "execution_count": 181
    }
   ],
   "source": [
    "data2 = df[df['NA_Sales'] == na_median ]\n",
    "data2"
   ]
  },
  {
   "cell_type": "code",
   "execution_count": 182,
   "metadata": {},
   "outputs": [
    {
     "output_type": "execute_result",
     "data": {
      "text/plain": [
       "['Spider-Man: Edge of Time',\n",
       " 'Turok: Evolution',\n",
       " 'Deadpool',\n",
       " 'GT Advance 2: Rally Racing',\n",
       " \"A Witch's Tale\",\n",
       " 'Nickelodeon Dance',\n",
       " 'Phantasy Star Collection',\n",
       " \"LEGO Knights' Kingdom\",\n",
       " 'Family Game Night 4: The Game Show',\n",
       " 'NBA Jam 2002']"
      ]
     },
     "metadata": {},
     "execution_count": 182
    }
   ],
   "source": [
    "cehck_numbers = len(data2)\n",
    "med_of_na_sails = cehck_numbers // 2\n",
    "ten_games = data2[med_of_na_sails-5 :med_of_na_sails+5]\n",
    "ten_real_names = list(ten_games.Name)\n",
    "ten_real_names\n",
    "# North_American_Median = na_median\n",
    "# get_the_middle = df[df['NA_Sales'] == North_American_Median]\n",
    "\n",
    "# mid_game = len(get_the_middle)//2\n",
    "# star= mid_game-5\n",
    "# arr_game=[]\n",
    "# for i in range(10):\n",
    "#     arr_game.append(get_the_middle.iloc[star]['Name'])\n",
    "#     star+=1\n",
    "# arr_game\n"
   ]
  },
  {
   "source": [
    "<h1>6- For the top-selling game of all time, how many standard deviations above/below the mean are its sales for North America?</h1>"
   ],
   "cell_type": "markdown",
   "metadata": {}
  },
  {
   "cell_type": "code",
   "execution_count": 186,
   "metadata": {},
   "outputs": [
    {
     "output_type": "execute_result",
     "data": {
      "text/plain": [
       "50.47898767479108"
      ]
     },
     "metadata": {},
     "execution_count": 186
    }
   ],
   "source": [
    "## top game\n",
    "## get mean\n",
    "## get the std\n",
    "## top_game - mean / std\n",
    "na_std = df['NA_Sales'].std()\n",
    "na_mean = df['NA_Sales'].mean()\n",
    "data3 = df['NA_Sales'].iloc[0]\n",
    "( data3 - na_mean ) / na_std\n"
   ]
  },
  {
   "source": [
    "<h1>7- The Nintendo Wii seems to have outdone itself with games. How does its average number of sales compare with all of the other platforms?</h1>"
   ],
   "cell_type": "markdown",
   "metadata": {}
  },
  {
   "cell_type": "code",
   "execution_count": 187,
   "metadata": {},
   "outputs": [
    {
     "output_type": "stream",
     "name": "stdout",
     "text": [
      "wii Mean : 0.6994037735849057\nnot wii Mean : 0.5233896418516336\n"
     ]
    }
   ],
   "source": [
    "#50\n",
    "wii_sales = df[df['Platform'] == 'Wii'].Global_Sales\n",
    "print('wii Mean :', wii_sales.mean())\n",
    "\n",
    "not_wii_sales = df[df['Platform'] != 'Wii'].Global_Sales\n",
    "print('not wii Mean :', not_wii_sales.mean())\n",
    "\n",
    "# print('Diff is :', wii_sales.mean() - not_wii_sales.mean())\n",
    "\n"
   ]
  },
  {
   "source": [
    "<h1>8- Come up with 3 more questions that can be answered with this data set.</h>"
   ],
   "cell_type": "markdown",
   "metadata": {}
  },
  {
   "cell_type": "code",
   "execution_count": 188,
   "metadata": {},
   "outputs": [
    {
     "output_type": "stream",
     "name": "stdout",
     "text": [
      "[[1 'Wii Sports' 'Wii' ... 3.77 8.46 82.74]\n [2 'Super Mario Bros.' 'NES' ... 6.81 0.77 40.24]\n [3 'Mario Kart Wii' 'Wii' ... 3.79 3.31 35.82]\n ...\n [16598 'SCORE International Baja 1000: The Official Game' 'PS2' ... 0.0\n  0.0 0.01]\n [16599 'Know How 2' 'DS' ... 0.0 0.0 0.01]\n [16600 'Spirits & Spells' 'GBA' ... 0.0 0.0 0.01]]\n"
     ]
    }
   ],
   "source": [
    "df.keys()\n",
    "print(df.values)"
   ]
  }
 ]
}